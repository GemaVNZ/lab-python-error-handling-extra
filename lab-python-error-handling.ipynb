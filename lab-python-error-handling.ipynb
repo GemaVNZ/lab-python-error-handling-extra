{
 "cells": [
  {
   "cell_type": "markdown",
   "id": "25d7736c-ba17-4aff-b6bb-66eba20fbf4e",
   "metadata": {},
   "source": [
    "# Lab | Error Handling"
   ]
  },
  {
   "cell_type": "markdown",
   "id": "6f8e446f-16b4-4e21-92e7-9d3d1eb551b6",
   "metadata": {},
   "source": [
    "Objective: Practice how to identify, handle and recover from potential errors in Python code using try-except blocks."
   ]
  },
  {
   "cell_type": "markdown",
   "id": "e253e768-aed8-4791-a800-87add1204afa",
   "metadata": {},
   "source": [
    "## Challenge \n",
    "\n",
    "Paste here your lab *functions* solutions. Apply error handling techniques to each function using try-except blocks. "
   ]
  },
  {
   "cell_type": "markdown",
   "id": "9180ff86-c3fe-4152-a609-081a287fa1af",
   "metadata": {},
   "source": [
    "The try-except block in Python is designed to handle exceptions and provide a fallback mechanism when code encounters errors. By enclosing the code that could potentially throw errors in a try block, followed by specific or general exception handling in the except block, we can gracefully recover from errors and continue program execution.\n",
    "\n",
    "However, there may be cases where an input may not produce an immediate error, but still needs to be addressed. In such situations, it can be useful to explicitly raise an error using the \"raise\" keyword, either to draw attention to the issue or handle it elsewhere in the program.\n",
    "\n",
    "Modify the code to handle possible errors in Python, it is recommended to use `try-except-else-finally` blocks, incorporate the `raise` keyword where necessary, and print meaningful error messages to alert users of any issues that may occur during program execution.\n",
    "\n"
   ]
  },
  {
   "cell_type": "code",
   "execution_count": 6,
   "id": "382b7794",
   "metadata": {},
   "outputs": [],
   "source": [
    "# your code goes here\n",
    "def initialize_inventory(products):\n",
    "    inventory = {}\n",
    "    \n",
    "    for product in products:\n",
    "        while True:\n",
    "            try: \n",
    "                cantidad = int(input(f\"Introduce la cantidad de {product}\"))\n",
    "                if (cantidad > 0):\n",
    "                    inventory[product] = (cantidad)\n",
    "                    print(f\"{product} agregado con éxito\")\n",
    "                    break\n",
    "                else:\n",
    "                    raise ValueError(\"La cantidad debe ser mayor que 0\")\n",
    "            except ValueError as e:\n",
    "                print(f\"Error: {e}. Intenta nuevamente.\")\n",
    "            finally:\n",
    "                print(\"Intento de agregar cantidad realizado.\")\n",
    "                    \n",
    "    return inventory"
   ]
  },
  {
   "cell_type": "code",
   "execution_count": 7,
   "id": "490be403",
   "metadata": {},
   "outputs": [],
   "source": [
    "inventory =  {}\n",
    "\n",
    "def get_customer_orders():\n",
    "    customer_order = set()\n",
    "\n",
    "    while True:\n",
    "        try: \n",
    "            product = input(\"Introduce el nombre del producto que quieres: \").lower() \n",
    "            if product in inventory and inventory[product] > 0:\n",
    "                print(f\"{product} en stock\")\n",
    "                customer_order.add(product)\n",
    "            else:\n",
    "                raise ValueError(f\"{product} sin stock\")\n",
    "        except ValueError as g:\n",
    "            print(f\"Error : {g}\")\n",
    "        \n",
    "        another = input(\"¿Quieres otro producto? (si/no): \").strip().lower()\n",
    "        if another == \"no\": \n",
    "                break\n",
    "        \n",
    "    return customer_order"
   ]
  },
  {
   "cell_type": "code",
   "execution_count": 8,
   "id": "396611af",
   "metadata": {},
   "outputs": [],
   "source": [
    "def update_inventory(customer_orders, inventory):\n",
    "    try:\n",
    "        for product in customer_orders:\n",
    "            if product in inventory and inventory[product] > 0:\n",
    "                inventory[product] -= 1\n",
    "            else:\n",
    "                raise ValueError(f\"No hay suficiente stock en el inventario para {product}\")\n",
    "    except KeyError:\n",
    "        print(\"Producto no encontrado en el inventario\")\n",
    "    except TypeError:\n",
    "        print(\"Error: el inventario o el pedido del cliente tienen un formato incorrecto\")\n",
    "    return inventory"
   ]
  },
  {
   "cell_type": "code",
   "execution_count": null,
   "id": "b73cb827",
   "metadata": {},
   "outputs": [
    {
     "name": "stdout",
     "output_type": "stream",
     "text": [
      "mug sin stock\n",
      "(0, 0.0)\n"
     ]
    }
   ],
   "source": [
    "products = ['t-shirt', 'mug', 'hat', 'book', 'keychain']\n",
    "\n",
    "customer_order = get_customer_orders()\n",
    "\n",
    "def calculate_order_statistics(customer_orders, products):\n",
    "    try:\n",
    "        total_products = len(customer_orders)\n",
    "        unique_percentage = (total_products/ len(products)) * 100 \n",
    "    except ZeroDivisionError:\n",
    "        print(\"No se han introducido productos\")\n",
    "        total_products = 0\n",
    "        unique_percentage = 0\n",
    "    else: \n",
    "        print(\"El cálculo de estadísticas se ha completado con éxito\")\n",
    "        \n",
    "    return total_products, unique_percentage\n",
    "\n",
    "print(calculate_order_statistics(customer_order, products))"
   ]
  },
  {
   "cell_type": "code",
   "execution_count": null,
   "id": "d9b76120",
   "metadata": {},
   "outputs": [],
   "source": [
    "def print_order_statistics(order_statistics):\n",
    "    try:\n",
    "        total_products = order_statistics[0]\n",
    "        unique_percentage = order_statistics[1]\n",
    "    except (TypeError, IndexError):\n",
    "        print (\"Error: La estadística del pedido no es correcta\")\n",
    "        total_products = 0\n",
    "        unique_percentage = 0\n",
    "    else:\n",
    "        print(\"La estadística del pedido se ha realizado con éxito\")\n",
    "        \n",
    "    print(f\"Total products ordered: {total_products}\")\n",
    "    print(f\"Unique products ordered: {unique_percentage}%\")\n",
    "\n",
    "print_order_statistics(calculate_order_statistics(customer_order, products))"
   ]
  },
  {
   "cell_type": "code",
   "execution_count": null,
   "id": "d1927a4a",
   "metadata": {},
   "outputs": [],
   "source": [
    "def print_update_inventory(inventory):\n",
    "    print(\"Inventario actualizado: \")\n",
    "    try:\n",
    "        for product, quantity in inventory.items():\n",
    "            print (f\"{product} : {quantity}\")\n",
    "    except TypeError:\n",
    "        print(\"Error: el inventario no es válido\")\n",
    "    finally:\n",
    "        print(\"El inventario se ha mostrado correctamente\")\n",
    "    return inventory"
   ]
  }
 ],
 "metadata": {
  "kernelspec": {
   "display_name": "base",
   "language": "python",
   "name": "python3"
  },
  "language_info": {
   "codemirror_mode": {
    "name": "ipython",
    "version": 3
   },
   "file_extension": ".py",
   "mimetype": "text/x-python",
   "name": "python",
   "nbconvert_exporter": "python",
   "pygments_lexer": "ipython3",
   "version": "3.12.4"
  }
 },
 "nbformat": 4,
 "nbformat_minor": 5
}
